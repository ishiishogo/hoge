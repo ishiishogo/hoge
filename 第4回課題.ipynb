{
 "cells": [
  {
   "cell_type": "markdown",
   "metadata": {},
   "source": [
    "# 第4回課題\n",
    "内包表記，並列処理"
   ]
  },
  {
   "cell_type": "code",
   "execution_count": null,
   "metadata": {
    "collapsed": false,
    "jupyter": {
     "outputs_hidden": false
    }
   },
   "outputs": [],
   "source": [
    "#!pip install joblib"
   ]
  },
  {
   "cell_type": "code",
   "execution_count": 2,
   "metadata": {
    "collapsed": false,
    "jupyter": {
     "outputs_hidden": false
    }
   },
   "outputs": [],
   "source": [
    "from joblib import Parallel, delayed\n",
    "import numpy as np\n",
    "import pprint\n",
    "pp = pprint.PrettyPrinter(indent=4)"
   ]
  },
  {
   "cell_type": "markdown",
   "metadata": {},
   "source": [
    "## 内包表記\n",
    "python における高速化テクの1つである内包表記の実装（for 文の削減）"
   ]
  },
  {
   "cell_type": "markdown",
   "metadata": {},
   "source": [
    "### 課題3"
   ]
  },
  {
   "cell_type": "markdown",
   "metadata": {},
   "source": [
    "以下の for 文を内包表記に書き直しなさい．\n",
    "```[python]\n",
    "data = []\n",
    "for i in range(5):\n",
    "    for j in range(4):\n",
    "        data.append(i*j)\n",
    "data\n",
    "```\n",
    "出力：\n",
    "[0, 0, 0, 0, 0, 1, 2, 3, 0, 2, 4, 6, 0, 3, 6, 9, 0, 4, 8, 12]"
   ]
  },
  {
   "cell_type": "code",
   "execution_count": 3,
   "metadata": {},
   "outputs": [
    {
     "data": {
      "text/plain": [
       "[0, 0, 0, 0, 0, 1, 2, 3, 0, 2, 4, 6, 0, 3, 6, 9, 0, 4, 8, 12]"
      ]
     },
     "execution_count": 3,
     "metadata": {},
     "output_type": "execute_result"
    }
   ],
   "source": [
    "data = [i*j for i in range(5) for j in range(4)]\n",
    "data"
   ]
  },
  {
   "cell_type": "markdown",
   "metadata": {},
   "source": [
    "### 課題2"
   ]
  },
  {
   "cell_type": "markdown",
   "metadata": {},
   "source": [
    "以下の for 文を内包表記に書き直しなさい．\n",
    "```[python]\n",
    "data = []\n",
    "for i in range(5):\n",
    "    inner = []\n",
    "    for j in range(i, 6):\n",
    "        inner.append(i)\n",
    "    data.append(inner)\n",
    "data\n",
    "```\n",
    "出力：\n",
    "[[0, 0, 0, 0, 0, 0], [1, 1, 1, 1, 1], [2, 2, 2, 2], [3, 3, 3], [4, 4]]"
   ]
  },
  {
   "cell_type": "code",
   "execution_count": 4,
   "metadata": {},
   "outputs": [
    {
     "data": {
      "text/plain": [
       "[[0, 0, 0, 0, 0, 0], [1, 1, 1, 1, 1], [2, 2, 2, 2], [3, 3, 3], [4, 4]]"
      ]
     },
     "execution_count": 4,
     "metadata": {},
     "output_type": "execute_result"
    }
   ],
   "source": [
    "data = [[i for j in range(i, 6)] for i in range(5)]\n",
    "data"
   ]
  },
  {
   "cell_type": "markdown",
   "metadata": {},
   "source": [
    "## 並列処理\n",
    "python における高速化テクの1つである並列化の実装（複数コア，CPU の使用）\n",
    "\n",
    "joblib だけでなく multiprocessing もある"
   ]
  },
  {
   "cell_type": "markdown",
   "metadata": {},
   "source": [
    "### 例：2乗の場合"
   ]
  },
  {
   "cell_type": "code",
   "execution_count": 5,
   "metadata": {
    "collapsed": false,
    "jupyter": {
     "outputs_hidden": false
    }
   },
   "outputs": [
    {
     "name": "stdout",
     "output_type": "stream",
     "text": [
      "2.2 ms ± 16.8 µs per loop (mean ± std. dev. of 7 runs, 100 loops each)\n"
     ]
    }
   ],
   "source": [
    "%%timeit 3 # 3回下記のコードを実行した時の時間を表示\n",
    "r = []\n",
    "for i in range(10000):\n",
    "    r.append(i ** 2)\n",
    "r[:3] + r[-3:]"
   ]
  },
  {
   "cell_type": "code",
   "execution_count": 6,
   "metadata": {},
   "outputs": [
    {
     "data": {
      "text/plain": [
       "\u001b[1;31mInit signature:\u001b[0m\n",
       "\u001b[0mParallel\u001b[0m\u001b[1;33m(\u001b[0m\u001b[1;33m\n",
       "\u001b[0m    \u001b[0mn_jobs\u001b[0m\u001b[1;33m=\u001b[0m\u001b[1;32mNone\u001b[0m\u001b[1;33m,\u001b[0m\u001b[1;33m\n",
       "\u001b[0m    \u001b[0mbackend\u001b[0m\u001b[1;33m=\u001b[0m\u001b[1;32mNone\u001b[0m\u001b[1;33m,\u001b[0m\u001b[1;33m\n",
       "\u001b[0m    \u001b[0mverbose\u001b[0m\u001b[1;33m=\u001b[0m\u001b[1;36m0\u001b[0m\u001b[1;33m,\u001b[0m\u001b[1;33m\n",
       "\u001b[0m    \u001b[0mtimeout\u001b[0m\u001b[1;33m=\u001b[0m\u001b[1;32mNone\u001b[0m\u001b[1;33m,\u001b[0m\u001b[1;33m\n",
       "\u001b[0m    \u001b[0mpre_dispatch\u001b[0m\u001b[1;33m=\u001b[0m\u001b[1;34m'2 * n_jobs'\u001b[0m\u001b[1;33m,\u001b[0m\u001b[1;33m\n",
       "\u001b[0m    \u001b[0mbatch_size\u001b[0m\u001b[1;33m=\u001b[0m\u001b[1;34m'auto'\u001b[0m\u001b[1;33m,\u001b[0m\u001b[1;33m\n",
       "\u001b[0m    \u001b[0mtemp_folder\u001b[0m\u001b[1;33m=\u001b[0m\u001b[1;32mNone\u001b[0m\u001b[1;33m,\u001b[0m\u001b[1;33m\n",
       "\u001b[0m    \u001b[0mmax_nbytes\u001b[0m\u001b[1;33m=\u001b[0m\u001b[1;34m'1M'\u001b[0m\u001b[1;33m,\u001b[0m\u001b[1;33m\n",
       "\u001b[0m    \u001b[0mmmap_mode\u001b[0m\u001b[1;33m=\u001b[0m\u001b[1;34m'r'\u001b[0m\u001b[1;33m,\u001b[0m\u001b[1;33m\n",
       "\u001b[0m    \u001b[0mprefer\u001b[0m\u001b[1;33m=\u001b[0m\u001b[1;32mNone\u001b[0m\u001b[1;33m,\u001b[0m\u001b[1;33m\n",
       "\u001b[0m    \u001b[0mrequire\u001b[0m\u001b[1;33m=\u001b[0m\u001b[1;32mNone\u001b[0m\u001b[1;33m,\u001b[0m\u001b[1;33m\n",
       "\u001b[0m\u001b[1;33m)\u001b[0m\u001b[1;33m\u001b[0m\u001b[1;33m\u001b[0m\u001b[0m\n",
       "\u001b[1;31mDocstring:\u001b[0m     \n",
       "Helper class for readable parallel mapping.\n",
       "\n",
       "Read more in the :ref:`User Guide <parallel>`.\n",
       "\n",
       "Parameters\n",
       "-----------\n",
       "n_jobs: int, default: None\n",
       "    The maximum number of concurrently running jobs, such as the number\n",
       "    of Python worker processes when backend=\"multiprocessing\"\n",
       "    or the size of the thread-pool when backend=\"threading\".\n",
       "    If -1 all CPUs are used. If 1 is given, no parallel computing code\n",
       "    is used at all, which is useful for debugging. For n_jobs below -1,\n",
       "    (n_cpus + 1 + n_jobs) are used. Thus for n_jobs = -2, all\n",
       "    CPUs but one are used.\n",
       "    None is a marker for 'unset' that will be interpreted as n_jobs=1\n",
       "    (sequential execution) unless the call is performed under a\n",
       "    parallel_backend context manager that sets another value for\n",
       "    n_jobs.\n",
       "backend: str, ParallelBackendBase instance or None, default: 'loky'\n",
       "    Specify the parallelization backend implementation.\n",
       "    Supported backends are:\n",
       "\n",
       "    - \"loky\" used by default, can induce some\n",
       "      communication and memory overhead when exchanging input and\n",
       "      output data with the worker Python processes.\n",
       "    - \"multiprocessing\" previous process-based backend based on\n",
       "      `multiprocessing.Pool`. Less robust than `loky`.\n",
       "    - \"threading\" is a very low-overhead backend but it suffers\n",
       "      from the Python Global Interpreter Lock if the called function\n",
       "      relies a lot on Python objects. \"threading\" is mostly useful\n",
       "      when the execution bottleneck is a compiled extension that\n",
       "      explicitly releases the GIL (for instance a Cython loop wrapped\n",
       "      in a \"with nogil\" block or an expensive call to a library such\n",
       "      as NumPy).\n",
       "    - finally, you can register backends by calling\n",
       "      register_parallel_backend. This will allow you to implement\n",
       "      a backend of your liking.\n",
       "\n",
       "    It is not recommended to hard-code the backend name in a call to\n",
       "    Parallel in a library. Instead it is recommended to set soft hints\n",
       "    (prefer) or hard constraints (require) so as to make it possible\n",
       "    for library users to change the backend from the outside using the\n",
       "    parallel_backend context manager.\n",
       "prefer: str in {'processes', 'threads'} or None, default: None\n",
       "    Soft hint to choose the default backend if no specific backend\n",
       "    was selected with the parallel_backend context manager. The\n",
       "    default process-based backend is 'loky' and the default\n",
       "    thread-based backend is 'threading'. Ignored if the ``backend``\n",
       "    parameter is specified.\n",
       "require: 'sharedmem' or None, default None\n",
       "    Hard constraint to select the backend. If set to 'sharedmem',\n",
       "    the selected backend will be single-host and thread-based even\n",
       "    if the user asked for a non-thread based backend with\n",
       "    parallel_backend.\n",
       "verbose: int, optional\n",
       "    The verbosity level: if non zero, progress messages are\n",
       "    printed. Above 50, the output is sent to stdout.\n",
       "    The frequency of the messages increases with the verbosity level.\n",
       "    If it more than 10, all iterations are reported.\n",
       "timeout: float, optional\n",
       "    Timeout limit for each task to complete.  If any task takes longer\n",
       "    a TimeOutError will be raised. Only applied when n_jobs != 1\n",
       "pre_dispatch: {'all', integer, or expression, as in '3*n_jobs'}\n",
       "    The number of batches (of tasks) to be pre-dispatched.\n",
       "    Default is '2*n_jobs'. When batch_size=\"auto\" this is reasonable\n",
       "    default and the workers should never starve.\n",
       "batch_size: int or 'auto', default: 'auto'\n",
       "    The number of atomic tasks to dispatch at once to each\n",
       "    worker. When individual evaluations are very fast, dispatching\n",
       "    calls to workers can be slower than sequential computation because\n",
       "    of the overhead. Batching fast computations together can mitigate\n",
       "    this.\n",
       "    The ``'auto'`` strategy keeps track of the time it takes for a batch\n",
       "    to complete, and dynamically adjusts the batch size to keep the time\n",
       "    on the order of half a second, using a heuristic. The initial batch\n",
       "    size is 1.\n",
       "    ``batch_size=\"auto\"`` with ``backend=\"threading\"`` will dispatch\n",
       "    batches of a single task at a time as the threading backend has\n",
       "    very little overhead and using larger batch size has not proved to\n",
       "    bring any gain in that case.\n",
       "temp_folder: str, optional\n",
       "    Folder to be used by the pool for memmapping large arrays\n",
       "    for sharing memory with worker processes. If None, this will try in\n",
       "    order:\n",
       "\n",
       "    - a folder pointed by the JOBLIB_TEMP_FOLDER environment\n",
       "      variable,\n",
       "    - /dev/shm if the folder exists and is writable: this is a\n",
       "      RAM disk filesystem available by default on modern Linux\n",
       "      distributions,\n",
       "    - the default system temporary folder that can be\n",
       "      overridden with TMP, TMPDIR or TEMP environment\n",
       "      variables, typically /tmp under Unix operating systems.\n",
       "\n",
       "    Only active when backend=\"loky\" or \"multiprocessing\".\n",
       "max_nbytes int, str, or None, optional, 1M by default\n",
       "    Threshold on the size of arrays passed to the workers that\n",
       "    triggers automated memory mapping in temp_folder. Can be an int\n",
       "    in Bytes, or a human-readable string, e.g., '1M' for 1 megabyte.\n",
       "    Use None to disable memmapping of large arrays.\n",
       "    Only active when backend=\"loky\" or \"multiprocessing\".\n",
       "mmap_mode: {None, 'r+', 'r', 'w+', 'c'}\n",
       "    Memmapping mode for numpy arrays passed to workers.\n",
       "    See 'max_nbytes' parameter documentation for more details.\n",
       "\n",
       "Notes\n",
       "-----\n",
       "\n",
       "This object uses workers to compute in parallel the application of a\n",
       "function to many different arguments. The main functionality it brings\n",
       "in addition to using the raw multiprocessing or concurrent.futures API\n",
       "are (see examples for details):\n",
       "\n",
       "* More readable code, in particular since it avoids\n",
       "  constructing list of arguments.\n",
       "\n",
       "* Easier debugging:\n",
       "    - informative tracebacks even when the error happens on\n",
       "      the client side\n",
       "    - using 'n_jobs=1' enables to turn off parallel computing\n",
       "      for debugging without changing the codepath\n",
       "    - early capture of pickling errors\n",
       "\n",
       "* An optional progress meter.\n",
       "\n",
       "* Interruption of multiprocesses jobs with 'Ctrl-C'\n",
       "\n",
       "* Flexible pickling control for the communication to and from\n",
       "  the worker processes.\n",
       "\n",
       "* Ability to use shared memory efficiently with worker\n",
       "  processes for large numpy-based datastructures.\n",
       "\n",
       "Examples\n",
       "--------\n",
       "\n",
       "A simple example:\n",
       "\n",
       ">>> from math import sqrt\n",
       ">>> from joblib import Parallel, delayed\n",
       ">>> Parallel(n_jobs=1)(delayed(sqrt)(i**2) for i in range(10))\n",
       "[0.0, 1.0, 2.0, 3.0, 4.0, 5.0, 6.0, 7.0, 8.0, 9.0]\n",
       "\n",
       "Reshaping the output when the function has several return\n",
       "values:\n",
       "\n",
       ">>> from math import modf\n",
       ">>> from joblib import Parallel, delayed\n",
       ">>> r = Parallel(n_jobs=1)(delayed(modf)(i/2.) for i in range(10))\n",
       ">>> res, i = zip(*r)\n",
       ">>> res\n",
       "(0.0, 0.5, 0.0, 0.5, 0.0, 0.5, 0.0, 0.5, 0.0, 0.5)\n",
       ">>> i\n",
       "(0.0, 0.0, 1.0, 1.0, 2.0, 2.0, 3.0, 3.0, 4.0, 4.0)\n",
       "\n",
       "The progress meter: the higher the value of `verbose`, the more\n",
       "messages:\n",
       "\n",
       ">>> from time import sleep\n",
       ">>> from joblib import Parallel, delayed\n",
       ">>> r = Parallel(n_jobs=2, verbose=10)(delayed(sleep)(.2) for _ in range(10)) #doctest: +SKIP\n",
       "[Parallel(n_jobs=2)]: Done   1 tasks      | elapsed:    0.6s\n",
       "[Parallel(n_jobs=2)]: Done   4 tasks      | elapsed:    0.8s\n",
       "[Parallel(n_jobs=2)]: Done  10 out of  10 | elapsed:    1.4s finished\n",
       "\n",
       "Traceback example, note how the line of the error is indicated\n",
       "as well as the values of the parameter passed to the function that\n",
       "triggered the exception, even though the traceback happens in the\n",
       "child process:\n",
       "\n",
       ">>> from heapq import nlargest\n",
       ">>> from joblib import Parallel, delayed\n",
       ">>> Parallel(n_jobs=2)(delayed(nlargest)(2, n) for n in (range(4), 'abcde', 3)) #doctest: +SKIP\n",
       "#...\n",
       "---------------------------------------------------------------------------\n",
       "Sub-process traceback:\n",
       "---------------------------------------------------------------------------\n",
       "TypeError                                          Mon Nov 12 11:37:46 2012\n",
       "PID: 12934                                    Python 2.7.3: /usr/bin/python\n",
       "...........................................................................\n",
       "/usr/lib/python2.7/heapq.pyc in nlargest(n=2, iterable=3, key=None)\n",
       "    419         if n >= size:\n",
       "    420             return sorted(iterable, key=key, reverse=True)[:n]\n",
       "    421\n",
       "    422     # When key is none, use simpler decoration\n",
       "    423     if key is None:\n",
       "--> 424         it = izip(iterable, count(0,-1))                    # decorate\n",
       "    425         result = _nlargest(n, it)\n",
       "    426         return map(itemgetter(0), result)                   # undecorate\n",
       "    427\n",
       "    428     # General case, slowest method\n",
       " TypeError: izip argument #1 must support iteration\n",
       "___________________________________________________________________________\n",
       "\n",
       "\n",
       "Using pre_dispatch in a producer/consumer situation, where the\n",
       "data is generated on the fly. Note how the producer is first\n",
       "called 3 times before the parallel loop is initiated, and then\n",
       "called to generate new data on the fly:\n",
       "\n",
       ">>> from math import sqrt\n",
       ">>> from joblib import Parallel, delayed\n",
       ">>> def producer():\n",
       "...     for i in range(6):\n",
       "...         print('Produced %s' % i)\n",
       "...         yield i\n",
       ">>> out = Parallel(n_jobs=2, verbose=100, pre_dispatch='1.5*n_jobs')(\n",
       "...                delayed(sqrt)(i) for i in producer()) #doctest: +SKIP\n",
       "Produced 0\n",
       "Produced 1\n",
       "Produced 2\n",
       "[Parallel(n_jobs=2)]: Done 1 jobs     | elapsed:  0.0s\n",
       "Produced 3\n",
       "[Parallel(n_jobs=2)]: Done 2 jobs     | elapsed:  0.0s\n",
       "Produced 4\n",
       "[Parallel(n_jobs=2)]: Done 3 jobs     | elapsed:  0.0s\n",
       "Produced 5\n",
       "[Parallel(n_jobs=2)]: Done 4 jobs     | elapsed:  0.0s\n",
       "[Parallel(n_jobs=2)]: Done 6 out of 6 | elapsed:  0.0s remaining: 0.0s\n",
       "[Parallel(n_jobs=2)]: Done 6 out of 6 | elapsed:  0.0s finished\n",
       "\u001b[1;31mInit docstring:\u001b[0m\n",
       "Parameters\n",
       "----------\n",
       "depth: int, optional\n",
       "    The depth of objects printed.\n",
       "\u001b[1;31mFile:\u001b[0m           c:\\users\\ishiishogo\\anaconda3\\lib\\site-packages\\joblib\\parallel.py\n",
       "\u001b[1;31mType:\u001b[0m           type\n",
       "\u001b[1;31mSubclasses:\u001b[0m     \n"
      ]
     },
     "metadata": {},
     "output_type": "display_data"
    }
   ],
   "source": [
    "?Parallel"
   ]
  },
  {
   "cell_type": "code",
   "execution_count": 7,
   "metadata": {
    "collapsed": false,
    "jupyter": {
     "outputs_hidden": false
    }
   },
   "outputs": [
    {
     "name": "stdout",
     "output_type": "stream",
     "text": [
      "280 ms ± 7.73 ms per loop (mean ± std. dev. of 7 runs, 1 loop each)\n"
     ]
    }
   ],
   "source": [
    "%%timeit 3 \n",
    "power = lambda x: x**2\n",
    "r = Parallel(n_jobs=-1, verbose=0)([delayed(power)(i) for i in range(10000)])\n",
    "r[:3] + r[-3:]"
   ]
  },
  {
   "cell_type": "code",
   "execution_count": 8,
   "metadata": {
    "collapsed": false,
    "jupyter": {
     "outputs_hidden": false
    }
   },
   "outputs": [
    {
     "name": "stderr",
     "output_type": "stream",
     "text": [
      "[Parallel(n_jobs=-1)]: Using backend LokyBackend with 16 concurrent workers.\n",
      "[Parallel(n_jobs=-1)]: Done 224 tasks      | elapsed:    0.0s\n",
      "[Parallel(n_jobs=-1)]: Done 8160 tasks      | elapsed:    0.1s\n",
      "[Parallel(n_jobs=-1)]: Done 10000 out of 10000 | elapsed:    0.2s finished\n"
     ]
    },
    {
     "data": {
      "text/plain": [
       "[0, 1, 4, 99940009, 99960004, 99980001]"
      ]
     },
     "execution_count": 8,
     "metadata": {},
     "output_type": "execute_result"
    }
   ],
   "source": [
    "power = lambda x: x**2\n",
    "r = Parallel(n_jobs=-1, verbose=3)( [delayed(power)(i) for i in range(10000)] )\n",
    "r[:3] + r[-3:]"
   ]
  },
  {
   "cell_type": "code",
   "execution_count": 9,
   "metadata": {
    "collapsed": false,
    "jupyter": {
     "outputs_hidden": false
    }
   },
   "outputs": [
    {
     "name": "stdout",
     "output_type": "stream",
     "text": [
      "10.7 µs ± 90.1 ns per loop (mean ± std. dev. of 7 runs, 100000 loops each)\n"
     ]
    }
   ],
   "source": [
    "%%timeit 3\n",
    "# numpy が最速というのはよくある\n",
    "np.arange(10000) ** 2"
   ]
  },
  {
   "cell_type": "code",
   "execution_count": 10,
   "metadata": {
    "collapsed": false,
    "jupyter": {
     "outputs_hidden": false
    }
   },
   "outputs": [
    {
     "name": "stdout",
     "output_type": "stream",
     "text": [
      "214 µs ± 2.2 µs per loop (mean ± std. dev. of 7 runs, 1000 loops each)\n"
     ]
    }
   ],
   "source": [
    "%%timeit 3\n",
    "np.fromiter(range(10000), dtype=np.int) ** 2"
   ]
  },
  {
   "cell_type": "markdown",
   "metadata": {},
   "source": [
    "### 課題1"
   ]
  },
  {
   "cell_type": "markdown",
   "metadata": {},
   "source": [
    "x = [(i, i+1) for i in range(100000)] としたとき，各 index 毎に積を求めよ\n",
    "\n",
    "出力 [0, 2, 6,（中略） 9999500006, 9999700002, 9999900000]"
   ]
  },
  {
   "cell_type": "code",
   "execution_count": 11,
   "metadata": {},
   "outputs": [
    {
     "data": {
      "text/plain": [
       "[0, 2, 6, 9999500006, 9999700002, 9999900000]"
      ]
     },
     "execution_count": 11,
     "metadata": {},
     "output_type": "execute_result"
    }
   ],
   "source": [
    "mul = lambda x, y: x * y\n",
    "r = Parallel(n_jobs=-1, verbose=0)(delayed(mul)(i, i+1) for i in range(100000))\n",
    "r[:3] + r[-3:]"
   ]
  },
  {
   "cell_type": "markdown",
   "metadata": {},
   "source": [
    "### 発展課題\n",
    "C = np.cumsum(np.arange(1000)) の各項の差を求めよ\n",
    "\n",
    "出力[1, 2, 3,（中略） 997, 998, 999] = np.arange(1, 1000)"
   ]
  },
  {
   "cell_type": "code",
   "execution_count": 21,
   "metadata": {},
   "outputs": [
    {
     "data": {
      "text/plain": [
       "[1, 2, 3, 997, 998, 999]"
      ]
     },
     "execution_count": 21,
     "metadata": {},
     "output_type": "execute_result"
    }
   ],
   "source": [
    "C = np.cumsum(np.arange(1000))\n",
    "sub = lambda x, y: y - x\n",
    "r = Parallel(n_jobs=-1, verbose=0)(delayed(sub)(C[i-1], C[i]) for i in range(1, 1000))\n",
    "r[:3] + r[-3:]"
   ]
  }
 ],
 "metadata": {
  "anaconda-cloud": {},
  "kernelspec": {
   "display_name": "Python 3",
   "language": "python",
   "name": "python3"
  },
  "language_info": {
   "codemirror_mode": {
    "name": "ipython",
    "version": 3
   },
   "file_extension": ".py",
   "mimetype": "text/x-python",
   "name": "python",
   "nbconvert_exporter": "python",
   "pygments_lexer": "ipython3",
   "version": "3.8.5"
  }
 },
 "nbformat": 4,
 "nbformat_minor": 4
}
